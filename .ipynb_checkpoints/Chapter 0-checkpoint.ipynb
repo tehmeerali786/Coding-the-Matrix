{
 "cells": [
  {
   "cell_type": "code",
   "execution_count": 2,
   "id": "9945b440-96fe-4ed5-8a73-08a01f65cb33",
   "metadata": {},
   "outputs": [],
   "source": [
    "import dictutil"
   ]
  },
  {
   "cell_type": "code",
   "execution_count": 4,
   "id": "778de680-6ed1-4b17-b43f-8bc96c2024f3",
   "metadata": {},
   "outputs": [
    {
     "name": "stdout",
     "output_type": "stream",
     "text": [
      "Help on module dictutil:\n",
      "\n",
      "NAME\n",
      "    dictutil\n",
      "\n",
      "FUNCTIONS\n",
      "    dict2list(dct, keylist)\n",
      "\n",
      "    list2dict(L, keylist)\n",
      "\n",
      "FILE\n",
      "    /home/tehmeerali/Desktop/INSHALLAH TALLAH Coding the Matrix/Code/dictutil.py\n",
      "\n",
      "\n"
     ]
    }
   ],
   "source": [
    "help(dictutil)"
   ]
  },
  {
   "cell_type": "code",
   "execution_count": 6,
   "id": "73f17764-134c-46e4-81c7-3c9cbd53fca3",
   "metadata": {},
   "outputs": [],
   "source": [
    "import importlib"
   ]
  },
  {
   "cell_type": "code",
   "execution_count": 8,
   "id": "89a9e9bc-7a79-4f13-84a5-8ac7bed6aa65",
   "metadata": {},
   "outputs": [
    {
     "data": {
      "text/plain": [
       "<module 'dictutil' from '/home/tehmeerali/Desktop/INSHALLAH TALLAH Coding the Matrix/Code/dictutil.py'>"
      ]
     },
     "execution_count": 8,
     "metadata": {},
     "output_type": "execute_result"
    }
   ],
   "source": [
    "importlib.reload(dictutil)"
   ]
  },
  {
   "cell_type": "code",
   "execution_count": 10,
   "id": "1443f5a3-b41b-4f94-8ab2-bd21c929be15",
   "metadata": {},
   "outputs": [
    {
     "name": "stdout",
     "output_type": "stream",
     "text": [
      "Help on module dictutil:\n",
      "\n",
      "NAME\n",
      "    dictutil\n",
      "\n",
      "FUNCTIONS\n",
      "    dict2list(dct, keylist)\n",
      "\n",
      "    list2dict(L, keylist)\n",
      "\n",
      "    listrange2dict(L)\n",
      "\n",
      "FILE\n",
      "    /home/tehmeerali/Desktop/INSHALLAH TALLAH Coding the Matrix/Code/dictutil.py\n",
      "\n",
      "\n"
     ]
    }
   ],
   "source": [
    "help(dictutil)"
   ]
  },
  {
   "cell_type": "code",
   "execution_count": 12,
   "id": "69aec68c-abcc-4c2f-9759-3090e772f265",
   "metadata": {},
   "outputs": [],
   "source": [
    "s = \"There is no spoon\""
   ]
  },
  {
   "cell_type": "code",
   "execution_count": 14,
   "id": "ad77e00e-8584-4f4f-9ba1-4ba2e7571b6a",
   "metadata": {},
   "outputs": [
    {
     "data": {
      "text/plain": [
       "9"
      ]
     },
     "execution_count": 14,
     "metadata": {},
     "output_type": "execute_result"
    }
   ],
   "source": [
    "for i in range(len(s)):\n",
    "    if s[i] == 'n':\n",
    "        break\n",
    "\n",
    "i"
   ]
  },
  {
   "cell_type": "markdown",
   "id": "89f9ee3e-05b0-416b-a84a-948a8350daea",
   "metadata": {},
   "source": [
    "# Task 6.6\n",
    "\n",
    "procedure: \n",
    "* input = list of documents.\n",
    "* output = a dictionary that map each word to the set of numbers that reflect their documents."
   ]
  },
  {
   "cell_type": "code",
   "execution_count": 6,
   "id": "f3f2cc71-4135-41be-9811-5f1120b66b0d",
   "metadata": {},
   "outputs": [],
   "source": [
    "f = open('stories_small.txt')\n",
    "stories = list(f)"
   ]
  },
  {
   "cell_type": "code",
   "execution_count": 8,
   "id": "28135980-ce88-440b-b454-2d9f54e914e1",
   "metadata": {},
   "outputs": [
    {
     "data": {
      "text/plain": [
       "50"
      ]
     },
     "execution_count": 8,
     "metadata": {},
     "output_type": "execute_result"
    }
   ],
   "source": [
    "len(stories)"
   ]
  },
  {
   "cell_type": "code",
   "execution_count": 10,
   "id": "064e87ff-3bd9-4e58-8fff-1fec72b5d87b",
   "metadata": {},
   "outputs": [
    {
     "data": {
      "text/plain": [
       "\"Canadian River Expeditions offers a change from the usual theme-park vacation : five 11-day float trips from July 1 to Aug. 31 that take families through some of British Columbia 's most scenic territory . Travel for these Chilcotin-Fraser tours is by yacht , seaplane and raft through deep fjords where bald eagles wheel through the sky and the water is filled with seals , whales and some of the biggest salmon in the world . Highlights include winging on a seaplane over icefields , hiking trips and fishing expeditions . The raft rides are not white knuckle adventures it 's mostly gentle floating . A few hours a day are spent on the water , with the rest of the time devoted to guided sightseeing and nature walks . Price is $ 2,325 , including round-trip airfare to Vancouver , meals and accommodations , as well as camping gear . Call your travel agent or ( 604 ) 738-4449 . Trafalgar Tours is offering 16 `` Best of ... '' trips to Europe for 1994 . `` Best of Britain , '' for example , takes in all of England and Scotland in 15 days for $ 1,099 . A 14-day `` Best of France '' trip for $ 1,260 covers the country from north to south , including Monaco , and a `` Best of Switzerland '' itinerary combines Zurich , St. Moritz , Zermatt , Geneva , Interlaken and Lucerne in 9 nine days for $ 799 . Other packages are available for Spain , Italy , Germany , Austria , Holland , Norway , Sweden and Denmark , Belgium and Holland , among others . Prices exclude airfare . Call your travel agent or ( 800 ) 457-6891 . Airlines are offering , or continuing , special price packages for travelers flying to Europe , the Mideast and the Far East . IPI World Travel and Delta Airlines , for example , are rolling back prices for a `` China Highlights '' tour 14 days , departing in November and December , to Bejing , Shanghai , Xian Guilin and Hong Kong for $ 2,650 , including airfare from the East Coast . Delta also runs several package tours to European cities : a `` Parisien Spree '' of 6 six nights , breakfasts and a Seine River cruise , for $ 1,199 per person , double occupancy , round-trip from New York , and a `` Romantic Rome '' trip , with similar features , for just $ 1,289 . El Al meanwhile sponsors a spring vacation package that includes five nights ' accommodations in Tel Aviv , daily breakfasts and free rental car , for just $ 1,049 round-trip from New York City . Call your travel agent or IPI at ( 212 ) 953-6010 or El Al Israeli Airlines at ( 800 ) EL AL SUN . Take a long weekend this summer and enjoy one of several two- to four-day walking tours of New York 's historic Hudson Valley from High Land Flings Footloose Holidays . Their `` Dutch Treat '' trip , June 3-5 , follows in the footsteps of colonial settlers through three National Historic landmark villages where stone houses built by Dutch and Huguenot builders in the 17th century still stand . You 'll walk America 's oldest street in New Paltz , Main Street in Hurley and the Stockade area of Kingston , where the state 's constitution was written and adopted , and also visit the 1676 Senate House . Other walks cover the area of Lake Minnewaska , Overlook Mountain near Woodstock and the northeastern Catskills . Prices range from $ 350 per person , double occupancy , for two-day walks to $ 699 for a four-day trip . Call ( 800 ) 453-6665 .\\n\""
      ]
     },
     "execution_count": 10,
     "metadata": {},
     "output_type": "execute_result"
    }
   ],
   "source": [
    "stories[1]"
   ]
  },
  {
   "cell_type": "code",
   "execution_count": 11,
   "id": "64038b68-934c-4037-8b75-449b4b532c13",
   "metadata": {},
   "outputs": [],
   "source": [
    "storiesen = list(enumerate(stories))"
   ]
  },
  {
   "cell_type": "code",
   "execution_count": 14,
   "id": "a11c502f-be14-4829-8563-8bd824238536",
   "metadata": {},
   "outputs": [
    {
     "data": {
      "text/plain": [
       "(0,\n",
       " \"A prep course for the month-long World Cup soccer tournament , a worldwide phenomenon to be played in the United States for the first time beginning June 17 , is available in a set of three home videos . Each of the three volumes by PolyGram Video lists for $ 14.95 and has a running time of about 60 minutes . The three volumes : `` World Cup USA '94 : The Official Preview , '' which includes a tournament history with footage all the way back to the first World Cup held in 1930 . There 's a look at the training of the 1994 U.S. team and a profile of Brazil 's Pele , just 17 when he took the 1958 event by storm , repeating in 1962 and 1970 . `` Top 50 Great World Cup Goals , '' highlighting exciting moments from competition beginning in 1966 with favorites such as Pele , Johan Cruyff , Diego Maradona , Roberto Baggio , Salvatore `` Toto '' Schillaci and Franz Beckenbauer . `` Great World Cup Superstars , '' focusing on the top names in the game , featured in the `` Goals '' cassette , and adding some interviews that offer an insight into what makes these stars shine . Three new basketball videos available : `` Sir Charles '' takes a look at the on-court intensity and dynamic skills of Charles Barkley of the Phoenix Suns as well as his entertaining off-court persona. $ 19.98 , 50 minutes , 1-800-999-VIDEO . `` NBA Superstars 3 '' follows up on two previous hit videos meshing the moves of the NBA 's elite with today 's hit music . This one includes Kenny Anderson , Steve Smith , Derrick Coleman , Larry Johnson , Dan Majerle , Alonzo Mourning , Hakeem Olajuwon , Mark Price , Shawn Kemp , Isiah Thomas and Joe Dumars . Their play is matched with the music of Erick Sermon , M People , LL Cool J , Celine Dion , Domino , Soulhat , Soul Asylum , Buckshot LeFonque , Branford Marsalis , Pearl Jam and Rozella. $ 19.98 , 50 minutes , 1-800-999-VIDEO . `` Hog Wild : The Official 1994 NCAA Championship Video '' recaptures the excitement of the latest edition of March Madness and Arkansas 's march to the title with rousing victories over Michigan , Arizona and Duke in the three final games. $ 19.98 , 45 minutes , 1-800-747-7999 .\\n\")"
      ]
     },
     "execution_count": 14,
     "metadata": {},
     "output_type": "execute_result"
    }
   ],
   "source": [
    "storiesen[0]"
   ]
  },
  {
   "cell_type": "code",
   "execution_count": 16,
   "id": "094d7b19-12b8-4ef4-b1cd-14ff562f68dd",
   "metadata": {},
   "outputs": [],
   "source": [
    "storiessp = []\n",
    "\n",
    "for i in stories:\n",
    "    x = i.split()\n",
    "    for i in x:\n",
    "        storiessp.append(i)"
   ]
  },
  {
   "cell_type": "code",
   "execution_count": 18,
   "id": "5d3c07cf-d870-42a1-9227-a146b083c61f",
   "metadata": {},
   "outputs": [
    {
     "data": {
      "text/plain": [
       "40418"
      ]
     },
     "execution_count": 18,
     "metadata": {},
     "output_type": "execute_result"
    }
   ],
   "source": [
    "len(storiessp)"
   ]
  },
  {
   "cell_type": "code",
   "execution_count": 20,
   "id": "aa100c62-1893-4723-bd4b-c6bb65d35721",
   "metadata": {},
   "outputs": [],
   "source": [
    "setstories = set(storiessp)"
   ]
  },
  {
   "cell_type": "code",
   "execution_count": 22,
   "id": "ad3a7eb9-45ad-42b6-bac7-f104683e7675",
   "metadata": {},
   "outputs": [
    {
     "data": {
      "text/plain": [
       "8681"
      ]
     },
     "execution_count": 22,
     "metadata": {},
     "output_type": "execute_result"
    }
   ],
   "source": [
    "len(setstories)"
   ]
  },
  {
   "cell_type": "code",
   "execution_count": 24,
   "id": "192a3b46-1f5e-40db-a716-aafad97c39dd",
   "metadata": {},
   "outputs": [
    {
     "data": {
      "text/plain": [
       "{'oncologist',\n",
       " '1978',\n",
       " 'species',\n",
       " 'protest',\n",
       " 'Convinced',\n",
       " 'Round',\n",
       " 'ease',\n",
       " 'provinces',\n",
       " 'Larges',\n",
       " 'buzz-phrase',\n",
       " 'sewn-on',\n",
       " 'Olympic',\n",
       " 'door',\n",
       " 'Jews',\n",
       " 'fun-loving',\n",
       " '3-5',\n",
       " 'resulting',\n",
       " 'Isiah',\n",
       " 'summary',\n",
       " 'black',\n",
       " 'dock',\n",
       " 'staff',\n",
       " 'Jam',\n",
       " 'two',\n",
       " 'bathrooms',\n",
       " 'seems',\n",
       " 'teen-age',\n",
       " 'caused',\n",
       " 'smiled',\n",
       " 'generosity',\n",
       " 'action.',\n",
       " 'feeding',\n",
       " ':',\n",
       " 'Ryvola',\n",
       " 'eccentricities',\n",
       " 'Beach',\n",
       " 'World',\n",
       " 'wish',\n",
       " 'assuming',\n",
       " 'send',\n",
       " 'Bobette',\n",
       " 'drives',\n",
       " 'Pam',\n",
       " '1989',\n",
       " 'clown',\n",
       " 'projects',\n",
       " 'trip',\n",
       " 'North',\n",
       " 'uses',\n",
       " '``',\n",
       " 'Jeff',\n",
       " 'states',\n",
       " 'Monday',\n",
       " 'cake',\n",
       " 'answers',\n",
       " 'bodies',\n",
       " 'mastersb',\n",
       " 'Adrienne',\n",
       " 'Ave',\n",
       " 'Chocolate',\n",
       " 'inauguration',\n",
       " 'neural',\n",
       " 'Pleasant',\n",
       " 'poets',\n",
       " 'fictional',\n",
       " 'long-documented',\n",
       " 'few',\n",
       " 'Cool',\n",
       " 'exertions',\n",
       " 'heart-attack',\n",
       " 'commercial',\n",
       " 'books',\n",
       " 'PBS',\n",
       " 'rough-and-tumble',\n",
       " 'fort',\n",
       " 'half-way',\n",
       " 'artists',\n",
       " 'nation',\n",
       " 'therefore',\n",
       " 'newer',\n",
       " 'survivor',\n",
       " 'interweaving',\n",
       " 'Bob',\n",
       " 'chosen',\n",
       " 'articulate',\n",
       " 'basis',\n",
       " 'jokes',\n",
       " 'Pasadena',\n",
       " 'flexible',\n",
       " 'sympathetic',\n",
       " 'aids',\n",
       " 'Resort',\n",
       " 'hopes',\n",
       " 'prime',\n",
       " 'Celebration',\n",
       " 'pickings',\n",
       " 'begins',\n",
       " 'short-line',\n",
       " 'rudimentary',\n",
       " '2-6',\n",
       " 'enemies',\n",
       " 'during',\n",
       " 'Nicholas',\n",
       " 'shoved',\n",
       " 'once',\n",
       " 'elegance',\n",
       " '1840s',\n",
       " '1862',\n",
       " 'newly',\n",
       " 'Yesterday',\n",
       " 'P.I.',\n",
       " 'insolvent',\n",
       " 'embodying',\n",
       " 'enemy',\n",
       " 'Central',\n",
       " 'El',\n",
       " '1434/1436',\n",
       " 'COMING',\n",
       " 'Supporters',\n",
       " 'usually',\n",
       " 'half',\n",
       " 'atriumlike',\n",
       " 'fought',\n",
       " 'accompany',\n",
       " 'fright',\n",
       " 'Madison',\n",
       " 'restless',\n",
       " 'untested',\n",
       " 'poised',\n",
       " 'problems',\n",
       " '1994',\n",
       " 'daily',\n",
       " 'direction',\n",
       " 'scholarships',\n",
       " 'gossip',\n",
       " 'note',\n",
       " 'Despite',\n",
       " 'discreet',\n",
       " 'fatherInvalid',\n",
       " 'Travel',\n",
       " 'smoke',\n",
       " 'possible',\n",
       " 'cuddles',\n",
       " 'legendary',\n",
       " '9-year-old',\n",
       " 'allies',\n",
       " 'market',\n",
       " 'Kelman',\n",
       " 'rising',\n",
       " 'elections',\n",
       " 'As',\n",
       " 'Generals',\n",
       " 'force',\n",
       " 'Back',\n",
       " 'Nominated',\n",
       " 'fitness',\n",
       " 'motorists',\n",
       " 'ages',\n",
       " 'Anconina',\n",
       " 'factory',\n",
       " 'six-year',\n",
       " 'nasty',\n",
       " 'elbows',\n",
       " 'limits',\n",
       " 'territory',\n",
       " 'soft',\n",
       " 'Blyskal',\n",
       " 'Quaid',\n",
       " 'prose',\n",
       " 'distractions',\n",
       " 'tel',\n",
       " 'Growing',\n",
       " 'hubris',\n",
       " 'Dyck',\n",
       " 'Just',\n",
       " 'Viking',\n",
       " 'immortal',\n",
       " 'desperate',\n",
       " 'accounts',\n",
       " 'human',\n",
       " 'demand',\n",
       " 'reporters',\n",
       " 'Hemingway',\n",
       " 'Units',\n",
       " 'mandate',\n",
       " 'buses',\n",
       " '500',\n",
       " 'earn',\n",
       " 'Younis',\n",
       " 'firmly',\n",
       " 'priced',\n",
       " 'aberration',\n",
       " 'honchos',\n",
       " 'stabbed',\n",
       " 'Women',\n",
       " 'Care',\n",
       " 'Gasoline',\n",
       " 'land-based',\n",
       " 'examine',\n",
       " 'match',\n",
       " 'thinking',\n",
       " 'Lutheran',\n",
       " 'clamor',\n",
       " 'centerpiece',\n",
       " 'USS',\n",
       " 'dust',\n",
       " 'Texas',\n",
       " 'IPI',\n",
       " 'orders',\n",
       " 'confirmed',\n",
       " 'estimates',\n",
       " 'government-wide',\n",
       " 'definitive',\n",
       " 'reservation',\n",
       " 'remarkable',\n",
       " 'downs',\n",
       " 'score',\n",
       " 'disobeyed',\n",
       " 'slowly',\n",
       " 'Ying',\n",
       " 'receive',\n",
       " 'warning',\n",
       " '1993',\n",
       " 'propelled',\n",
       " 'Jacqueline',\n",
       " 'randier',\n",
       " 'strange',\n",
       " 'decades',\n",
       " 'end-zone',\n",
       " 'repeating',\n",
       " 'Eager',\n",
       " 'Straits',\n",
       " 'contracts',\n",
       " 'grieving',\n",
       " 'employer',\n",
       " 'gubernatorial',\n",
       " 'bucking',\n",
       " 'brews',\n",
       " 'NBC',\n",
       " 'producer',\n",
       " 'postwar',\n",
       " 'must-stops',\n",
       " 'schedules',\n",
       " 'routine',\n",
       " 'no-hitter',\n",
       " 'partially',\n",
       " 'Hudson',\n",
       " 'Horse',\n",
       " 'own',\n",
       " 'Island',\n",
       " 'full',\n",
       " 'fine',\n",
       " 'informed',\n",
       " 'Rocklink',\n",
       " 'WHAT',\n",
       " 'yes',\n",
       " 'warned',\n",
       " 'commissioner',\n",
       " 'calypso',\n",
       " 'rule',\n",
       " 'endorphin-proud',\n",
       " 'RING',\n",
       " 'grisly',\n",
       " 'haughty',\n",
       " 'Sporting',\n",
       " 'Communist-governed',\n",
       " 'salmon',\n",
       " 'brook',\n",
       " 'tourists',\n",
       " 'From',\n",
       " 'decorator',\n",
       " 'looking',\n",
       " 'sky',\n",
       " 'floats',\n",
       " 'outmaneuvers',\n",
       " 'products',\n",
       " 'undissolved',\n",
       " 'question',\n",
       " 'follow',\n",
       " 'rustling',\n",
       " 'victories',\n",
       " 'staggered',\n",
       " 'executive',\n",
       " 'exploded',\n",
       " '30',\n",
       " 'overextended',\n",
       " 'Faulkner',\n",
       " 'terrorists',\n",
       " 'manifest',\n",
       " 'nor',\n",
       " 'sightseeing',\n",
       " 'discussed',\n",
       " 'preached',\n",
       " '20th',\n",
       " 'toward',\n",
       " 'journalistic',\n",
       " 'inexpensive',\n",
       " 'pursued',\n",
       " 'autographs',\n",
       " 'questionably',\n",
       " 'rabbit',\n",
       " 'grave',\n",
       " 'proven',\n",
       " 'marched',\n",
       " 'photographer',\n",
       " 'campus',\n",
       " 'leveling-off',\n",
       " 'mothers',\n",
       " 'Square',\n",
       " 'writer',\n",
       " 'Monte',\n",
       " 'grow',\n",
       " 'London',\n",
       " '6',\n",
       " 'intention',\n",
       " 'breed',\n",
       " 'Early',\n",
       " 'non-fiction',\n",
       " 'IRS',\n",
       " 'politicians',\n",
       " 'function',\n",
       " 'owning',\n",
       " 'Surgeon',\n",
       " 'salaries',\n",
       " 'chose',\n",
       " 'reporting',\n",
       " 'transition',\n",
       " 'luscious',\n",
       " 'citizenship',\n",
       " 'Mthembu',\n",
       " 'flagship',\n",
       " 'Wild',\n",
       " 'quintessential',\n",
       " 'patronizes',\n",
       " 'motor-coach',\n",
       " 'Rathman',\n",
       " 'E',\n",
       " 'critiqued',\n",
       " 'everyone',\n",
       " 'flea',\n",
       " 'queen',\n",
       " 'deliciously',\n",
       " 'glory',\n",
       " 'abated',\n",
       " 'We',\n",
       " 'varnish',\n",
       " 'filmed',\n",
       " 'gentle',\n",
       " 'sourcing',\n",
       " 'happening',\n",
       " 'Babe',\n",
       " 'Bulben',\n",
       " 'shoes',\n",
       " 'so',\n",
       " 'fall',\n",
       " 'Stout',\n",
       " 'unexpected',\n",
       " 'quiet',\n",
       " 'knowledge',\n",
       " 'resumed',\n",
       " 'Istrian',\n",
       " 'failings',\n",
       " 'arises',\n",
       " 'gauging',\n",
       " 'ugly',\n",
       " 'bigger',\n",
       " 'paratrooper',\n",
       " 'noisily',\n",
       " 'somehow',\n",
       " 'carried',\n",
       " 'Hot',\n",
       " 'card',\n",
       " 'gangsters',\n",
       " 'dangerous',\n",
       " 'shanty',\n",
       " 'York',\n",
       " 'turns',\n",
       " 'Wilbur',\n",
       " 'possibly',\n",
       " 'Yasser',\n",
       " 'drug',\n",
       " 'Any',\n",
       " 'Yitzhak',\n",
       " 'Xian',\n",
       " 'Jennifer',\n",
       " 'guest',\n",
       " 'Arkansas',\n",
       " 'marry',\n",
       " 'feat',\n",
       " 'stab',\n",
       " 'retains',\n",
       " 'appliances',\n",
       " 'ing',\n",
       " 'reached',\n",
       " 'Gap',\n",
       " '14-day',\n",
       " 'everlasting',\n",
       " 'Massachusetts',\n",
       " 'undertaking',\n",
       " 'Special',\n",
       " 'pay',\n",
       " 'Morgantown',\n",
       " 'estrangements',\n",
       " 'measures',\n",
       " 'fourth',\n",
       " 'rapidly',\n",
       " 'historian',\n",
       " 'made',\n",
       " 'exhalation',\n",
       " 'eager',\n",
       " 'resounding',\n",
       " 'transcends',\n",
       " 'such',\n",
       " 'Katie',\n",
       " 'Plaszow',\n",
       " 'shapes',\n",
       " 'recountings',\n",
       " 'trajectory',\n",
       " 'appealing',\n",
       " '20,000',\n",
       " 'Reinhold',\n",
       " 'ripe',\n",
       " 'women',\n",
       " 'officer',\n",
       " 'Beatles',\n",
       " 'construct',\n",
       " 'two-week',\n",
       " 'join',\n",
       " 'Mrs.',\n",
       " 'ex-beau',\n",
       " 'domineering',\n",
       " 'glittering',\n",
       " 'Allied',\n",
       " 'narrator',\n",
       " 'Thames',\n",
       " 'vacationing',\n",
       " 'Yet',\n",
       " 'collective',\n",
       " 'stop',\n",
       " 'devoted',\n",
       " 'Hard',\n",
       " 'Steve',\n",
       " 'industrial',\n",
       " 'Chronicle',\n",
       " 'affairs',\n",
       " 'abandon',\n",
       " 'Radio',\n",
       " 'closely',\n",
       " 'Smyth',\n",
       " 'added',\n",
       " 'prevailing',\n",
       " 'cosmetician',\n",
       " 'recovery',\n",
       " 'alternate',\n",
       " 'adventures',\n",
       " 'crumble',\n",
       " 'respect',\n",
       " 'locate',\n",
       " 'Clintonites',\n",
       " 'demanding',\n",
       " 'memorabilia',\n",
       " 'Except',\n",
       " 'evidently',\n",
       " 'farm',\n",
       " 'quality',\n",
       " 'Still',\n",
       " 'landmarks',\n",
       " 'maximizing',\n",
       " 'popular',\n",
       " 'misapprehensions',\n",
       " 'yarn',\n",
       " 'Commemorative',\n",
       " 'adventure',\n",
       " 'knuckle',\n",
       " 'cities',\n",
       " 'Auntie',\n",
       " 'stigmas',\n",
       " 'legend',\n",
       " 'statist',\n",
       " 'cartoonist',\n",
       " 'fragmented',\n",
       " 'interpreters',\n",
       " 'Courtney',\n",
       " 'syrup',\n",
       " 'showering',\n",
       " 'Thousand',\n",
       " 'forth',\n",
       " 'tour',\n",
       " 'extraordinary',\n",
       " 'domestic',\n",
       " 'feisty',\n",
       " 'one-armed',\n",
       " 'Pfaff',\n",
       " 'resolve',\n",
       " 'Kiwi',\n",
       " 'overcompensate',\n",
       " 'legendry',\n",
       " 'Pregnant',\n",
       " 'massacre',\n",
       " 'apartheid',\n",
       " 'modest',\n",
       " 'Germany',\n",
       " 'Doneckers',\n",
       " 'nationalist',\n",
       " 'swimmer',\n",
       " '5,000',\n",
       " 'forces',\n",
       " 'Janet',\n",
       " 'am',\n",
       " 'agree',\n",
       " 'toll',\n",
       " 'principles',\n",
       " 'getting',\n",
       " 'pretzels',\n",
       " 'misery',\n",
       " 'opulent',\n",
       " 'passages',\n",
       " 'money',\n",
       " 'Trinidad',\n",
       " 'clotted',\n",
       " 'Anybody',\n",
       " 'Breakfast',\n",
       " 'lead',\n",
       " 'place',\n",
       " 'aircraft',\n",
       " 'drive',\n",
       " 'suits',\n",
       " 'brought',\n",
       " 'displaying',\n",
       " 'foot',\n",
       " 'save',\n",
       " 'well-settled',\n",
       " 'contemplate',\n",
       " 'treasury',\n",
       " 'patience',\n",
       " 'virgin',\n",
       " 'causing',\n",
       " 'Goodnight',\n",
       " 'American-Russian',\n",
       " 'Internet',\n",
       " 'careful',\n",
       " '1992',\n",
       " 'man-made',\n",
       " 'racket',\n",
       " 'charge',\n",
       " 'saying',\n",
       " 'Tell',\n",
       " 'probes',\n",
       " 'term',\n",
       " 'sophistication',\n",
       " 'Awash',\n",
       " 'land-mine-detection',\n",
       " 'university',\n",
       " 'Negro',\n",
       " 'faster',\n",
       " 'baked',\n",
       " 'unpronounceable',\n",
       " 'expanding',\n",
       " 'oldest',\n",
       " 'Erick',\n",
       " 'want',\n",
       " 'none',\n",
       " 'float',\n",
       " 'Shakespeare',\n",
       " 'here',\n",
       " 'laboratory',\n",
       " 'strafing',\n",
       " 'notice',\n",
       " 'true',\n",
       " 'reaction',\n",
       " 'rentals',\n",
       " 'yearning',\n",
       " '818-705-4418',\n",
       " 'recording',\n",
       " 'pickpockets',\n",
       " 'brightest',\n",
       " 'Expeditions',\n",
       " 'narrate',\n",
       " 'reasonably',\n",
       " 'audiences',\n",
       " 'having',\n",
       " 'recorded',\n",
       " 'strolled',\n",
       " 'stadium',\n",
       " 'Minutes',\n",
       " 'hangout',\n",
       " 'injured',\n",
       " 'brick',\n",
       " '4',\n",
       " 'preparing',\n",
       " 'Worst',\n",
       " 'Military',\n",
       " 'Timothy',\n",
       " 'gorilla',\n",
       " 'teacher',\n",
       " 'accounting',\n",
       " 'consistently',\n",
       " 'historical',\n",
       " 'manufacturing',\n",
       " 'looked',\n",
       " 'conversant',\n",
       " 'Shawn',\n",
       " 'triumph',\n",
       " 'heads',\n",
       " 'supports',\n",
       " 'gay',\n",
       " 'shirts',\n",
       " 'suggests',\n",
       " 'organizations',\n",
       " 'which',\n",
       " 'bottom',\n",
       " 'larger',\n",
       " 'Sky',\n",
       " 'five-minute',\n",
       " 'aiming',\n",
       " 'trouble',\n",
       " 'Magic',\n",
       " 'norm',\n",
       " 'posterity',\n",
       " '-0-',\n",
       " 'Five',\n",
       " '11',\n",
       " 'leaf',\n",
       " 'Brookline',\n",
       " 'rema',\n",
       " 'hotel',\n",
       " 'owners',\n",
       " 'Ashkelon',\n",
       " 'conducted',\n",
       " 'Yugoslav',\n",
       " 'newest',\n",
       " 'Looking',\n",
       " 'changing',\n",
       " 'Airbus',\n",
       " 'calculated',\n",
       " 'Tours',\n",
       " 'robed',\n",
       " 'multipicture',\n",
       " 'French',\n",
       " 'Aboard',\n",
       " 'modicum',\n",
       " 'subsequent',\n",
       " 'Rossini',\n",
       " 'Newman',\n",
       " 'wobble',\n",
       " 'Nuremberg',\n",
       " 'collapses',\n",
       " 'stars',\n",
       " 'supported',\n",
       " '817-SOAP',\n",
       " 'raising',\n",
       " 'melded',\n",
       " 'campsites',\n",
       " 'prisoner',\n",
       " 'resting',\n",
       " 'dread',\n",
       " 'understatement',\n",
       " 'unconscious',\n",
       " 'Bluegrass',\n",
       " 'Nepal',\n",
       " 'supervisor',\n",
       " 'Tough',\n",
       " 'faxing',\n",
       " 'radios',\n",
       " 'bankruptcies',\n",
       " 'disclosed',\n",
       " 'Everyone',\n",
       " 'microchips',\n",
       " 'J.',\n",
       " 'state',\n",
       " 'lacked',\n",
       " 'Michael',\n",
       " 'Los',\n",
       " 'bulls',\n",
       " 'Windmills',\n",
       " 'previously',\n",
       " 'enhance',\n",
       " 'got',\n",
       " 'chateau',\n",
       " 'rubbing',\n",
       " 'resorts',\n",
       " 'admitted',\n",
       " 'Mason',\n",
       " 'Bausch',\n",
       " 'IS',\n",
       " 'retrieve',\n",
       " 'bazaar',\n",
       " 'furnish',\n",
       " 'Tin',\n",
       " 'welfare',\n",
       " 'Pennsylvania',\n",
       " 'agenda',\n",
       " 'administering',\n",
       " 'When',\n",
       " 'not',\n",
       " 'Kevin',\n",
       " '32',\n",
       " 'attractions',\n",
       " 'Black',\n",
       " 'early-to-bed',\n",
       " 'commercialism',\n",
       " 'guys',\n",
       " 'phrase',\n",
       " 'children',\n",
       " 'leaked',\n",
       " 'opening',\n",
       " 'scoffed',\n",
       " 'mystified',\n",
       " 'franchise',\n",
       " '800-493-3536',\n",
       " 'Insider',\n",
       " 'five-day',\n",
       " 'refugees',\n",
       " 'size',\n",
       " 'chairman',\n",
       " 'smallest',\n",
       " 'Mellon',\n",
       " \"'\",\n",
       " 'Melvin',\n",
       " 'study',\n",
       " 'unbelievable',\n",
       " 'Naturalization',\n",
       " 'infamous',\n",
       " 'motivated',\n",
       " 'monstrous',\n",
       " 'jumped',\n",
       " 'On',\n",
       " 'non-free-market',\n",
       " 'aside',\n",
       " 'reprocessing',\n",
       " 'Yankees',\n",
       " 'Kajsa',\n",
       " 'Dave',\n",
       " 'Canadian',\n",
       " 'bladder',\n",
       " 'pregnant',\n",
       " '300',\n",
       " 'deck',\n",
       " 'Spivacks',\n",
       " 'PG',\n",
       " 'Foley',\n",
       " 'acids',\n",
       " '3,626',\n",
       " 'includes',\n",
       " 'map',\n",
       " 'profiles',\n",
       " 'neighboring',\n",
       " 'Beethoven',\n",
       " 'low-cost',\n",
       " 'bag',\n",
       " 'inns',\n",
       " 'worse',\n",
       " 'fewer',\n",
       " 'News',\n",
       " 'bowl',\n",
       " 'shifted',\n",
       " 'break',\n",
       " 'circumcision',\n",
       " 'hooked',\n",
       " 'WonderWorld',\n",
       " 'much-advertised',\n",
       " 'Schiffer',\n",
       " 'song',\n",
       " 'rowboat',\n",
       " 'But',\n",
       " '1920s',\n",
       " 'exploits',\n",
       " ',',\n",
       " 'seduced',\n",
       " 'dissent',\n",
       " 'breweries',\n",
       " 'noble',\n",
       " 'companies',\n",
       " 'directory',\n",
       " 'widely',\n",
       " 'Charles',\n",
       " 'McCarthy',\n",
       " '382-5612',\n",
       " 'promising',\n",
       " 'd',\n",
       " 'Stanley',\n",
       " 'cops',\n",
       " '152',\n",
       " 'journalists',\n",
       " '222.2',\n",
       " 'forgo',\n",
       " 'bold',\n",
       " 'almost',\n",
       " 'showed',\n",
       " 'examined',\n",
       " 'rulebook-bound',\n",
       " 'illustrated',\n",
       " 'cents',\n",
       " 'pitching',\n",
       " 'unformed',\n",
       " 'Betty',\n",
       " 'protection',\n",
       " 'discuss',\n",
       " 'shelved',\n",
       " 'films',\n",
       " 'Books',\n",
       " 'pursue',\n",
       " 'produces',\n",
       " 'rookie',\n",
       " 'leisurely',\n",
       " 'milking',\n",
       " 'liar',\n",
       " 'pilgrimage',\n",
       " 'Simple',\n",
       " 'reject',\n",
       " 'Ticknor',\n",
       " 'David',\n",
       " 'Jose-based',\n",
       " 'victim',\n",
       " 'smorgasbords',\n",
       " '1,199',\n",
       " 'outside',\n",
       " 'DiMaggio',\n",
       " 'basic',\n",
       " 'threads',\n",
       " 'Fabio',\n",
       " 'Rinpoche',\n",
       " 'Richard',\n",
       " 'analysis',\n",
       " 'worsening',\n",
       " 'shaken',\n",
       " 'treatise',\n",
       " 'cold',\n",
       " 'counterattack',\n",
       " 'glass',\n",
       " '2:30',\n",
       " 'carved',\n",
       " 'sore',\n",
       " 'Reeves',\n",
       " 'stationed',\n",
       " 'Chugach',\n",
       " 'cashing',\n",
       " 'famous',\n",
       " 'represent',\n",
       " 'defiant',\n",
       " 'running',\n",
       " 'Then',\n",
       " 'Liddell',\n",
       " 'Go',\n",
       " 'Government',\n",
       " 'covers',\n",
       " 'indoor/outdoor',\n",
       " 'Electrons',\n",
       " 'do',\n",
       " 'holidays',\n",
       " 'sitting',\n",
       " 'right',\n",
       " 'trace',\n",
       " 'void',\n",
       " 'Midwest',\n",
       " 'monetary',\n",
       " 'empty',\n",
       " 'victory',\n",
       " 'grins',\n",
       " 'Diseases',\n",
       " 'Service',\n",
       " 'stay',\n",
       " 'memorials',\n",
       " 'faith',\n",
       " 'support',\n",
       " 'colony',\n",
       " 'Velimir',\n",
       " 'slovenliness',\n",
       " 'violent',\n",
       " 'greater',\n",
       " 'claims',\n",
       " 'violating',\n",
       " 'existing',\n",
       " 'bargains',\n",
       " 'lack',\n",
       " 'dancer',\n",
       " 'psychologically',\n",
       " 'undiluted',\n",
       " 'representing',\n",
       " 'voted',\n",
       " 'democracy',\n",
       " 'two-',\n",
       " 'brother',\n",
       " 'major',\n",
       " '4,000',\n",
       " 'gratitude',\n",
       " 'Q45',\n",
       " 'led',\n",
       " 'ill',\n",
       " 'kale',\n",
       " 'hole',\n",
       " 'guaranteeing',\n",
       " 'unemployment',\n",
       " 'universal',\n",
       " 'dramatic',\n",
       " 'large',\n",
       " 'considerations',\n",
       " '767',\n",
       " 'grateful',\n",
       " 'reformers',\n",
       " 'frequent',\n",
       " 'garrulous',\n",
       " '105',\n",
       " 'succeeding',\n",
       " 'Psalms',\n",
       " 'Fla.',\n",
       " 'emotions',\n",
       " 'Corp.',\n",
       " '0.7',\n",
       " 'old-fashioned',\n",
       " 'drops',\n",
       " 'tunics',\n",
       " 'inward',\n",
       " 'HAS',\n",
       " 'inky',\n",
       " 'length',\n",
       " 'Breast',\n",
       " 'Jack',\n",
       " 'MGM',\n",
       " 'arranges',\n",
       " 'tears',\n",
       " 'strangers',\n",
       " '1945',\n",
       " 'Hamilton',\n",
       " 'Carroll',\n",
       " 'nullifies',\n",
       " 'Glass',\n",
       " 'unlike',\n",
       " 'unblinking',\n",
       " 'issued',\n",
       " 'corrugated',\n",
       " 'Sutherland-hosted',\n",
       " 'dynamic',\n",
       " 'Nazi',\n",
       " 'costs',\n",
       " 'fact-finding',\n",
       " 'vain',\n",
       " 'communities',\n",
       " 'everybody',\n",
       " 'coach',\n",
       " 'devoid',\n",
       " '126',\n",
       " 'hailing',\n",
       " 'masses',\n",
       " 'exception',\n",
       " 'scientific',\n",
       " 'chat',\n",
       " 'Serbia',\n",
       " 'hormone',\n",
       " 'waves',\n",
       " 'programs',\n",
       " 'columns',\n",
       " 'flourishes',\n",
       " 'Schindler',\n",
       " 'defining',\n",
       " 'climbs',\n",
       " 'This',\n",
       " 'Duvalier',\n",
       " 'principle',\n",
       " 'rabbits',\n",
       " 'Takoma',\n",
       " 'Peter',\n",
       " 'killing',\n",
       " 'Thunder',\n",
       " 'sketch',\n",
       " 'acquaintances',\n",
       " 'oddly',\n",
       " 'promoting',\n",
       " 'Americans',\n",
       " 'Grebenicek',\n",
       " 'Side',\n",
       " 'key',\n",
       " 'obscurity',\n",
       " 'sailing',\n",
       " 'procurement',\n",
       " 'moronic',\n",
       " 'Milcamagnesia',\n",
       " 'conspicuously',\n",
       " 'Axel',\n",
       " '48',\n",
       " \"'30s-era\",\n",
       " 'prohibitions',\n",
       " 'graduates',\n",
       " 'within',\n",
       " 'sites',\n",
       " 'alcoholism',\n",
       " \"wouldn't\",\n",
       " 'dominoes',\n",
       " 'aims',\n",
       " 'proper',\n",
       " 'eel-shaped',\n",
       " 'gain',\n",
       " 'seats',\n",
       " 'bed',\n",
       " 'reappearance',\n",
       " 'dreadful',\n",
       " 'nonfiction',\n",
       " 'velvets',\n",
       " 'teen',\n",
       " 'three',\n",
       " ...}"
      ]
     },
     "execution_count": 24,
     "metadata": {},
     "output_type": "execute_result"
    }
   ],
   "source": [
    "setstories"
   ]
  },
  {
   "cell_type": "code",
   "execution_count": 26,
   "id": "02de94c0-b904-4f1a-bb5f-89bf42813373",
   "metadata": {},
   "outputs": [
    {
     "data": {
      "text/plain": [
       "{8: {'L', 'a', 'e', 'g', 'r', 's'},\n",
       " 12: {'d', 'o', 'r'},\n",
       " 17: {'I', 'a', 'h', 'i', 's'},\n",
       " 31: {'d', 'e', 'f', 'g', 'i', 'n'},\n",
       " 32: {':'},\n",
       " 35: {'B', 'a', 'c', 'e', 'h'},\n",
       " 36: {'W', 'd', 'l', 'o', 'r'},\n",
       " 49: {'`'}}"
      ]
     },
     "execution_count": 26,
     "metadata": {},
     "output_type": "execute_result"
    }
   ],
   "source": [
    "{i:set(w) for w, (i, x) in zip(setstories, storiesen) if w in x}"
   ]
  },
  {
   "cell_type": "code",
   "execution_count": 28,
   "id": "33a4228f-cd75-4e95-a06d-7e81f712aaaf",
   "metadata": {},
   "outputs": [],
   "source": [
    "check = dict()\n",
    "for w in setstories:\n",
    "    for (i, x) in storiesen:\n",
    "        if w in x:\n",
    "            try:\n",
    "                check[w].update({i})\n",
    "            except:\n",
    "                check[w] = {i}\n",
    "                \n",
    "            "
   ]
  },
  {
   "cell_type": "code",
   "execution_count": 29,
   "id": "ea6a7282-1ca0-4842-9c65-8d56ceb985d1",
   "metadata": {},
   "outputs": [
    {
     "data": {
      "text/plain": [
       "{5, 8, 29}"
      ]
     },
     "execution_count": 29,
     "metadata": {},
     "output_type": "execute_result"
    }
   ],
   "source": [
    "check['boat']"
   ]
  },
  {
   "cell_type": "code",
   "execution_count": 32,
   "id": "a0e42483-33d7-4fa3-bcc5-b14f25c88788",
   "metadata": {},
   "outputs": [],
   "source": [
    "def makeInverseIndex(strlist):\n",
    "    f = open(strlist)\n",
    "    stories = list(f)\n",
    "    storiesen = list(enumerate(stories))\n",
    "    \n",
    "    storiessp = []\n",
    "    for i in stories:\n",
    "        x = i.split()\n",
    "        for i in x:\n",
    "            storiessp.append(i)\n",
    "\n",
    "    setstories = set(storiessp)\n",
    "\n",
    "    check = dict()\n",
    "    for w in setstories:\n",
    "        for (i, x) in storiesen:\n",
    "            if w in x:\n",
    "                try:\n",
    "                    check[w].update({i})\n",
    "                except:\n",
    "                    check[w] = {i}\n",
    "\n",
    "    return check\n",
    "    "
   ]
  },
  {
   "cell_type": "code",
   "execution_count": 34,
   "id": "2f31f350-39e4-449c-b92a-10ebe83cd8e7",
   "metadata": {},
   "outputs": [],
   "source": [
    "check = makeInverseIndex('stories_small.txt')"
   ]
  },
  {
   "cell_type": "code",
   "execution_count": 35,
   "id": "e577d3d8-790c-4138-a5de-aec1d14ea226",
   "metadata": {},
   "outputs": [
    {
     "data": {
      "text/plain": [
       "{5, 8, 29}"
      ]
     },
     "execution_count": 35,
     "metadata": {},
     "output_type": "execute_result"
    }
   ],
   "source": [
    "check['boat']"
   ]
  },
  {
   "cell_type": "code",
   "execution_count": 50,
   "id": "b3e1da36-91f5-45fa-993b-72a24d601d1a",
   "metadata": {},
   "outputs": [
    {
     "data": {
      "text/plain": [
       "{10}"
      ]
     },
     "execution_count": 50,
     "metadata": {},
     "output_type": "execute_result"
    }
   ],
   "source": [
    "check['dock']"
   ]
  },
  {
   "cell_type": "code",
   "execution_count": 39,
   "id": "dfaed34b-b93e-4378-9a9e-b0b4155508c1",
   "metadata": {},
   "outputs": [],
   "source": [
    "test = {0: 'A', 1: 'B'}"
   ]
  },
  {
   "cell_type": "code",
   "execution_count": 41,
   "id": "d4abf691-8d18-4afd-9608-7f342c947ae1",
   "metadata": {},
   "outputs": [
    {
     "ename": "KeyError",
     "evalue": "2",
     "output_type": "error",
     "traceback": [
      "\u001b[0;31m---------------------------------------------------------------------------\u001b[0m",
      "\u001b[0;31mKeyError\u001b[0m                                  Traceback (most recent call last)",
      "Cell \u001b[0;32mIn[41], line 1\u001b[0m\n\u001b[0;32m----> 1\u001b[0m test[\u001b[38;5;241m2\u001b[39m]\n",
      "\u001b[0;31mKeyError\u001b[0m: 2"
     ]
    }
   ],
   "source": [
    "test[2]"
   ]
  },
  {
   "cell_type": "code",
   "execution_count": null,
   "id": "2945a0eb-4025-4a27-8fad-a5b84b9e82b0",
   "metadata": {},
   "outputs": [],
   "source": [
    "test[2] = {'A', 'B', 'C'}"
   ]
  },
  {
   "cell_type": "code",
   "execution_count": 32,
   "id": "3c0b2faa-7248-4cba-8311-38d9e04dbf4a",
   "metadata": {},
   "outputs": [
    {
     "data": {
      "text/plain": [
       "{'A', 'B', 'C'}"
      ]
     },
     "execution_count": 32,
     "metadata": {},
     "output_type": "execute_result"
    }
   ],
   "source": [
    "test[2]"
   ]
  },
  {
   "cell_type": "code",
   "execution_count": 34,
   "id": "0371f00e-e6ed-42bc-8397-b47a2fc090d4",
   "metadata": {},
   "outputs": [],
   "source": [
    "test[2].update({'D'})"
   ]
  },
  {
   "cell_type": "code",
   "execution_count": 36,
   "id": "17ab8023-f3fb-4b75-b9a2-71300255e3f2",
   "metadata": {},
   "outputs": [
    {
     "data": {
      "text/plain": [
       "{'A', 'B', 'C', 'D'}"
      ]
     },
     "execution_count": 36,
     "metadata": {},
     "output_type": "execute_result"
    }
   ],
   "source": [
    "test[2]"
   ]
  },
  {
   "cell_type": "code",
   "execution_count": 38,
   "id": "0d824e00-218e-491c-958b-c9f25635db44",
   "metadata": {},
   "outputs": [
    {
     "ename": "KeyError",
     "evalue": "3",
     "output_type": "error",
     "traceback": [
      "\u001b[0;31m---------------------------------------------------------------------------\u001b[0m",
      "\u001b[0;31mKeyError\u001b[0m                                  Traceback (most recent call last)",
      "Cell \u001b[0;32mIn[38], line 1\u001b[0m\n\u001b[0;32m----> 1\u001b[0m test[\u001b[38;5;241m3\u001b[39m]\u001b[38;5;241m.\u001b[39mupdate({\u001b[38;5;124m'\u001b[39m\u001b[38;5;124mA\u001b[39m\u001b[38;5;124m'\u001b[39m})\n",
      "\u001b[0;31mKeyError\u001b[0m: 3"
     ]
    }
   ],
   "source": [
    "test[3].update({'A'})"
   ]
  },
  {
   "cell_type": "markdown",
   "id": "94f714e4-52d2-44b1-8204-2e40b00a7a25",
   "metadata": {},
   "source": [
    "# Task 6.7\n",
    "\n",
    "procedure:\n",
    "\n",
    "* input = inverseindex, query\n",
    "* a set containing all document numbers that contains _any_ of the words query."
   ]
  },
  {
   "cell_type": "code",
   "execution_count": 46,
   "id": "8b8fab73-0811-44e5-810d-94c22a591b89",
   "metadata": {},
   "outputs": [],
   "source": [
    "def orSearch(InverseIndex, query):\n",
    "    documents = set()\n",
    "    for i in query:\n",
    "        if i in InverseIndex:\n",
    "            result = InverseIndex.get(i)\n",
    "            for k in result:\n",
    "                documents.add(k)\n",
    "\n",
    "    return documents\n",
    "        "
   ]
  },
  {
   "cell_type": "code",
   "execution_count": 48,
   "id": "83fa62d7-80b5-4160-a3cd-3c5b2b279d87",
   "metadata": {},
   "outputs": [
    {
     "data": {
      "text/plain": [
       "{5, 8, 10, 29}"
      ]
     },
     "execution_count": 48,
     "metadata": {},
     "output_type": "execute_result"
    }
   ],
   "source": [
    "orSearch(check, ['boat', 'dock'])"
   ]
  },
  {
   "cell_type": "code",
   "execution_count": 44,
   "id": "db504e0b-9679-4cbf-b6ae-542f7bac0459",
   "metadata": {},
   "outputs": [
    {
     "name": "stdout",
     "output_type": "stream",
     "text": [
      "The key 'apple' exists in the dictionary.\n",
      "The key 'grape' does not exist in the dictionary.\n"
     ]
    }
   ],
   "source": [
    "my_dict = {\"apple\": 1, \"banana\": 2, \"cherry\": 3}\n",
    "\n",
    "if \"apple\" in my_dict:\n",
    "    print(\"The key 'apple' exists in the dictionary.\")\n",
    "\n",
    "if \"grape\" not in my_dict:\n",
    "    print(\"The key 'grape' does not exist in the dictionary.\")"
   ]
  },
  {
   "cell_type": "markdown",
   "id": "637b52e7-7f01-44ce-920b-f6f5ac6f21c9",
   "metadata": {},
   "source": [
    "# Exercise .08 Computational Problems with one-liner comprehension answers"
   ]
  },
  {
   "cell_type": "markdown",
   "id": "0ac3886d-212a-49a6-9b61-c3312a05574d",
   "metadata": {},
   "source": [
    "### Problem 0.8.1 Increments(L)\n",
    "\n",
    "input: List of L numbers <br>  output: List of numbers in which ith element is one plus the ith element of L."
   ]
  },
  {
   "cell_type": "code",
   "execution_count": 5,
   "id": "58df84d0-306c-41b6-8ddd-563af9a52387",
   "metadata": {},
   "outputs": [],
   "source": [
    "def increment(L): return [i+1 for i in L]"
   ]
  },
  {
   "cell_type": "code",
   "execution_count": 7,
   "id": "7dcb2afe-c090-450f-8a8b-3701731151d5",
   "metadata": {},
   "outputs": [
    {
     "data": {
      "text/plain": [
       "[2, 6, 8]"
      ]
     },
     "execution_count": 7,
     "metadata": {},
     "output_type": "execute_result"
    }
   ],
   "source": [
    "increment([1, 5, 7])"
   ]
  },
  {
   "cell_type": "markdown",
   "id": "936f3832-ed07-401d-9417-79e46e98d9ee",
   "metadata": {},
   "source": [
    "### Problem 0.8.2 cube(L)\n",
    "input: List of L numbers <br>\n",
    "output: list of numbers in which ith element is the cube of the ith element of L."
   ]
  },
  {
   "cell_type": "code",
   "execution_count": 27,
   "id": "c2d4822b-e3cc-4853-a1c4-57bf8b704f30",
   "metadata": {},
   "outputs": [],
   "source": [
    "from math import pow"
   ]
  },
  {
   "cell_type": "code",
   "execution_count": 29,
   "id": "becccafd-efb7-439d-96a3-2c9b4eeaa1d6",
   "metadata": {},
   "outputs": [],
   "source": [
    "def cube(L): return [pow(i, 3) for i in L]"
   ]
  },
  {
   "cell_type": "code",
   "execution_count": 31,
   "id": "1546c152-6dd4-4635-9f2f-7379bf3e2b53",
   "metadata": {},
   "outputs": [
    {
     "data": {
      "text/plain": [
       "[27.0]"
      ]
     },
     "execution_count": 31,
     "metadata": {},
     "output_type": "execute_result"
    }
   ],
   "source": [
    "cube([3])"
   ]
  },
  {
   "cell_type": "markdown",
   "id": "66ea6c9b-3421-499f-9313-b235277e3ba4",
   "metadata": {},
   "source": [
    "### Problem 0.8.3: tuple_sum(A, B)\n"
   ]
  },
  {
   "cell_type": "code",
   "execution_count": null,
   "id": "286554cd-980c-44a3-aedc-557bd4fa475a",
   "metadata": {},
   "outputs": [],
   "source": []
  },
  {
   "cell_type": "code",
   "execution_count": null,
   "id": "f0443ff7-8b1e-49f9-a38f-abe8fce62ce2",
   "metadata": {},
   "outputs": [],
   "source": []
  },
  {
   "cell_type": "markdown",
   "id": "056429b8-6747-4af8-a2a6-587f9a9b2d7b",
   "metadata": {},
   "source": [
    "### Problem 0.8.4 inv_dict(d)\n",
    "\n",
    "input: Dictionary d representing an invertible function f <br>\n",
    "output: dictionary representing the inverse of f, the returned dictionary's keys are the values of d and its values are the keys of d."
   ]
  },
  {
   "cell_type": "code",
   "execution_count": 45,
   "id": "20746e6e-0b50-417f-ab06-15ebecff7248",
   "metadata": {},
   "outputs": [],
   "source": [
    "def inv_dict(d): return {k:i for i, k in d.items()}"
   ]
  },
  {
   "cell_type": "code",
   "execution_count": 47,
   "id": "e5174925-f875-4ee1-8c71-7a98b6f17fd8",
   "metadata": {},
   "outputs": [
    {
     "data": {
      "text/plain": [
       "{'one': '1', 'two': '2'}"
      ]
     },
     "execution_count": 47,
     "metadata": {},
     "output_type": "execute_result"
    }
   ],
   "source": [
    "inv_dict({\"1\": \"one\", \"2\": \"two\"})"
   ]
  },
  {
   "cell_type": "markdown",
   "id": "da75ffba-f07d-4111-a30b-e02bc81453a5",
   "metadata": {},
   "source": [
    "### Problem 0.8.5 row(p, n)\n",
    "\n",
    "input: integer p, and integer n <br>\n",
    "output: n-element list such that element i is p+1"
   ]
  },
  {
   "cell_type": "code",
   "execution_count": 17,
   "id": "ae9d78d9-020a-4e64-b45e-46e3c98d6e19",
   "metadata": {},
   "outputs": [],
   "source": [
    "def row(p, n): return [p+i for i in range(n)]"
   ]
  },
  {
   "cell_type": "code",
   "execution_count": 19,
   "id": "847eb9dc-987e-4884-9f76-261ba88069e4",
   "metadata": {},
   "outputs": [
    {
     "data": {
      "text/plain": [
       "[10, 11, 12, 13]"
      ]
     },
     "execution_count": 19,
     "metadata": {},
     "output_type": "execute_result"
    }
   ],
   "source": [
    "row(10, 4)"
   ]
  },
  {
   "cell_type": "code",
   "execution_count": null,
   "id": "a84a0bab-5282-4539-8b68-117bb87aa15b",
   "metadata": {},
   "outputs": [],
   "source": []
  }
 ],
 "metadata": {
  "kernelspec": {
   "display_name": "Python [conda env:base] *",
   "language": "python",
   "name": "conda-base-py"
  },
  "language_info": {
   "codemirror_mode": {
    "name": "ipython",
    "version": 3
   },
   "file_extension": ".py",
   "mimetype": "text/x-python",
   "name": "python",
   "nbconvert_exporter": "python",
   "pygments_lexer": "ipython3",
   "version": "3.12.7"
  }
 },
 "nbformat": 4,
 "nbformat_minor": 5
}
